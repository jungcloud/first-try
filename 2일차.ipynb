{
  "nbformat": 4,
  "nbformat_minor": 0,
  "metadata": {
    "colab": {
      "provenance": [],
      "include_colab_link": true
    },
    "kernelspec": {
      "name": "python3",
      "display_name": "Python 3"
    },
    "language_info": {
      "name": "python"
    }
  },
  "cells": [
    {
      "cell_type": "markdown",
      "metadata": {
        "id": "view-in-github",
        "colab_type": "text"
      },
      "source": [
        "<a href=\"https://colab.research.google.com/github/jungcloud/first-try/blob/main/2%EC%9D%BC%EC%B0%A8.ipynb\" target=\"_parent\"><img src=\"https://colab.research.google.com/assets/colab-badge.svg\" alt=\"Open In Colab\"/></a>"
      ]
    },
    {
      "cell_type": "markdown",
      "source": [
        "# 1. 인공지능이란?"
      ],
      "metadata": {
        "id": "kkoDIotqjL5-"
      }
    },
    {
      "cell_type": "markdown",
      "source": [
        "## 1-1. 인공지능의 말 뜻\n",
        "\n",
        "인공지능은 말 그대로 인간이 '인공적으로' 만들어낸 '지능'이다. 즉, 컴퓨터로 뭐가의 논리 판단을 알아서 하도록 만든 것을 말하며, 인공지능의 분류에는 아래 그림처럼 다양하게 있으며, 최근 인터넷 매체 등을 통해서 소개되는 대부분의 인공지능은 딥러닝을 의미한다.\n",
        "\n",
        "<img src='https://img.hankyung.com/photo/202009/AD.23737380.1.jpg'>"
      ],
      "metadata": {
        "id": "Q7Abh-19jL3j"
      }
    },
    {
      "cell_type": "markdown",
      "source": [
        "## 1-2. 신경망이란?\n",
        "\n",
        "생명과학 시간에 배운 뉴런을 생각해보자. 수상돌기(가지돌기)에서 이전 뉴런에서 분비한 신경전달 물질을 감지하고 일정량 이상의 신호가 왔다고 판단하면 축삭돌기를 통해 다음 뉴런에 신호를 전달한다. 이 개념을 그대로 컴퓨터로 구현한 것이 **인공 신경**이다.\n",
        "\n",
        "<img src='https://encrypted-tbn0.gstatic.com/images?q=tbn:ANd9GcSQmfJu7sdIT8Y1NLmKBPU4MHJ9iHNGQ57OAA&usqp=CAU' width=500>\n",
        "\n",
        "근데 우리의 뇌는 단세포가 아니기 때문에 굉장히 많은 뉴런들이 복잡하게 얽힌 구조를 띄고 있다. 이처럼 인공 신경을 여러겹 그리고 여러층 쌓아서 깊고 매우 복잡한 구조를 만든 것을 **인공 신경망**이라고 하며, 이를 영어로 **딥 뉴럴 네트워크**라고 한다. 딥 뉴럴 네트워크를 학습하는 과정을 딥러닝이라고 한다.\n",
        "\n",
        "<img src=\"https://www.ibm.com/content/dam/connectedassets-adobe-cms/worldwide-content/cdp/cf/ul/g/3a/b8/ICLH_Diagram_Batch_01_03-DeepNeuralNetwork.component.simple-narrative-xl.ts=1694627445038.png/content/adobe-cms/kr/ko/topics/neural-networks/jcr:content/root/table_of_contents/body/content_section_styled/content-section-body/simple_narrative/image\">\n",
        "\n"
      ],
      "metadata": {
        "id": "hsRcsn5-jL1h"
      }
    },
    {
      "cell_type": "markdown",
      "source": [
        "다음 영상을 통해서 딥 뉴럴 네트워크가 어떻게 동작하는지 시각적으로 알 수 있다.\n",
        "\n",
        "https://youtu.be/aircAruvnKk?si=cDXwAX8oEFQeOCJD"
      ],
      "metadata": {
        "id": "D58w29HXjLzO"
      }
    },
    {
      "cell_type": "markdown",
      "source": [
        "# 2. 간단한 모델 만들어보기\n"
      ],
      "metadata": {
        "id": "XGHDALqZjLsw"
      }
    },
    {
      "cell_type": "markdown",
      "source": [
        "### 우리가 쓸 데이터셋 알아보기\n",
        "\n",
        "사람이 숫자를 직접 쓴 숫자 필기체 데이터들을 모은 것으로 MNIST라는 이름으로 불린다. 수학을 배울때 더하기를 먼저 배우듯 인공지능을 할 때 가장 먼저 다뤄보는 데이터셋이다.\n",
        "\n",
        "<img src=\"https://t1.daumcdn.net/thumb/R720x0/?fname=http://t1.daumcdn.net/brunch/service/user/7E8/image/-PFjiPPm58mQqyVuadI6vWPXvCg.png\">"
      ],
      "metadata": {
        "id": "6cnfFkvDZZ0M"
      }
    },
    {
      "cell_type": "code",
      "source": [
        "import tensorflow as tf\n",
        "from tensorflow.keras.datasets import mnist\n",
        "from tensorflow.keras.utils import to_categorical\n",
        "from tensorflow.keras.preprocessing.image import ImageDataGenerator\n",
        "\n",
        "import tensorflow as tf\n",
        "from tensorflow.keras.layers import Dense, Flatten, Dropout, Conv2D, MaxPooling2D, BatchNormalization, Activation\n",
        "from tensorflow.keras.models import Sequential"
      ],
      "metadata": {
        "id": "t3ikAHS-19Pm"
      },
      "execution_count": null,
      "outputs": []
    },
    {
      "cell_type": "markdown",
      "source": [
        "### 행렬의 곱\n",
        "\n",
        "<img src=\"https://www.mathsisfun.com/algebra/images/matrix-multiply-ex1b.svg\">\n",
        "<img src=\"https://i.pinimg.com/736x/0e/bc/0d/0ebc0d88dd2151f0e9b07e5e1001e4c0.jpg\">\n"
      ],
      "metadata": {
        "id": "ZVlRaZYM5Vsq"
      }
    },
    {
      "cell_type": "markdown",
      "source": [
        "### flatten이란?\n",
        "\n",
        "뉴런에 이미지를 입력하기 위해서는 아래와 같이 이미지를 평평하게 펴줄 필요가 있다. 선형 대수에서의 행렬의 곱연산을 생각하면 편하다.\n",
        "\n",
        "<img src=\"https://i.stack.imgur.com/rx3X4.png\" width=500>"
      ],
      "metadata": {
        "id": "zAjZLhPlYPsa"
      }
    },
    {
      "cell_type": "markdown",
      "source": [
        "### softmax란?\n",
        "\n",
        "인공지능이 만들어낸 출력값들을 확률값으로 만들어주는 기능을 한다. 우리는 인공지능이 데이터를 보고 0인지 6인지에 대한 확률이 필요하기 때문이다. 왜 확률이 필요한지는 조금 이따가 설명하겠다.\n",
        "\n",
        "<img src=\"https://www.oreilly.com/api/v2/epubs/9781788392303/files/assets/53e7b660-22b9-4eec-b435-623d7458a621.png\">"
      ],
      "metadata": {
        "id": "zZ7paHxLY5Tg"
      }
    },
    {
      "cell_type": "markdown",
      "source": [
        "### accuracy (정확도)\n",
        "\n",
        "정확도는 말그대로 얼마나 정확한지를 말한다. 정확도 측정 방법은 아래와 같다.\n",
        "\n",
        "$정확도 = \\frac{맞춘 \\ 개수}{전체 \\ 맞춰야하는 \\ 개수}$"
      ],
      "metadata": {
        "id": "fwhaHRJ9HIHD"
      }
    },
    {
      "cell_type": "code",
      "source": [
        "# 단층 Linear 모델\n",
        "def build_single_layer_model():\n",
        "  model = Sequential([\n",
        "    Flatten(input_shape=(28, 28)),  # MNIST 이미지 플래튼\n",
        "    Dense(10, activation='softmax') # 10개 클래스에 대한 출력\n",
        "  ])\n",
        "  model.compile(optimizer='adam', loss='categorical_crossentropy', metrics=['accuracy'])\n",
        "  return model"
      ],
      "metadata": {
        "id": "rbsoYyxyvLUU"
      },
      "execution_count": 1,
      "outputs": []
    },
    {
      "cell_type": "markdown",
      "source": [
        "### 이미지 정규화\n",
        "\n",
        "이미지는 [0, 255] 사이의 값으로 표현된다. 최소값인 0과 최대값인 255의 범위가 매우 크기 때문에 딥러닝을 할 때 학습에 불안정성이 생길 수 있다. 따라서 이미지의 범위를 [0, 1]사이의 실수로 만들기 위해 255로 나눠준다."
      ],
      "metadata": {
        "id": "24dR6aV7ibQE"
      }
    },
    {
      "cell_type": "markdown",
      "source": [
        "### 원핫 인코딩(one-hot encoding)\n",
        "\n",
        "정답이 0이라면 [1,0,0,0,0,0,0,0,0,0], 정답이 9라면 [0,0,0,0,0,0,0,0,0,1]이 되도록 하는 것. 즉, 정답에 해당하는 인덱스의 확률값이 1이 되도록 하는 것. 이를 통해서 softmax로 나온 확률값과 비교해서 인공지능이 예측한 값과 비교할 수 있도록 한다.\n",
        "\n",
        "예를 들어 인공지능이 [0.8, 0.1, 0, 0, 0, 0, 0, 0.1, 0, 0]이라고 예측하고, 정답이 [1,0,0,0,0,0,0,0,0,0]이라면 두 벡터의 거리 등으로 오차율을 계산해서 인공지능을 역전파를 통해 학습시킨다."
      ],
      "metadata": {
        "id": "-MmZ_oynjmxH"
      }
    },
    {
      "cell_type": "markdown",
      "source": [
        "### batch size와 epoch\n",
        "\n",
        "<img src=\"https://mblogthumb-phinf.pstatic.net/MjAxOTAxMjNfMjU4/MDAxNTQ4MjM1Nzg3NTA2.UtvnGsckZhLHOPPOBWH841IWsZFzNcgwZvYKi2nxImEg.CdtqIxOjWeBo4eNBD2pXu5uwYGa3ZVUr8WZvtldArtYg.PNG.qbxlvnf11/20190123_182720.png?type=w800\">"
      ],
      "metadata": {
        "id": "QxmhI_MUj4RW"
      }
    },
    {
      "cell_type": "markdown",
      "source": [
        "### 역전파\n",
        "\n",
        "아래의 그림처럼 오차율이 나오면 이 오차가 적어지는 방향으로 인공지능의 가중치들을 조절해나가는 방법.\n",
        "\n",
        "<img src=\"https://blog.kakaocdn.net/dn/MkXPU/btrn22tDCYw/GmqV3JztgW377ATDC3e6E0/img.png\">\n"
      ],
      "metadata": {
        "id": "ZqySQS6Vj5W5"
      }
    },
    {
      "cell_type": "markdown",
      "source": [
        "### train, validation, test\n",
        "\n",
        "수능으로 예를 들자. 우리는 수능을 보기 위해서 모의고사 시험을 보고, 모의고사 시험을 보기 위해서 문제집을 푼다. train은 여기서 문제집을 푸는 것, validation은 모의고사를 보는 것, test는 수능을 보는 것이라고 생각하면 된다. 즉, test 성적이 제일 높게 나오는 것이 좋은데, 우리가 지금까지 학습한 것이 과연 잘하고 있는 것인지를 확인하기 위해 validation을 진행해 이 성능이 잘 나오는지를 보며 test 성적이 좋을지를 예측한다."
      ],
      "metadata": {
        "id": "wqnICgEOFhYf"
      }
    },
    {
      "cell_type": "code",
      "source": [
        "# MNIST 데이터셋 불러오기 및 전처리\n",
        "(train_images, train_labels), (test_images, test_labels) = mnist.load_data()\n",
        "train_images = train_images / 255.0\n",
        "test_images = test_images / 255.0\n",
        "\n",
        "# 레이블을 원-핫 인코딩으로 변환\n",
        "train_labels = to_categorical(train_labels, 10)\n",
        "test_labels = to_categorical(test_labels, 10)\n",
        "\n",
        "# 모델 정의 (위에서 정의한 함수 사용)\n",
        "single_layer_model = build_single_layer_model()\n",
        "\n",
        "# 학습 매개변수 설정\n",
        "batch_size = 32\n",
        "epochs = 5\n",
        "\n",
        "# 단층 Linear 모델 학습\n",
        "single_layer_model.fit(train_images, train_labels, batch_size=batch_size, epochs=epochs, validation_data=(test_images, test_labels))"
      ],
      "metadata": {
        "id": "DThxYWsn2FT8"
      },
      "execution_count": null,
      "outputs": []
    },
    {
      "cell_type": "markdown",
      "source": [
        "# 3. 더 복잡한 모델 만들기"
      ],
      "metadata": {
        "id": "-xXp4vn_jLqe"
      }
    },
    {
      "cell_type": "markdown",
      "source": [
        "### 다층으로 만들기\n",
        "\n",
        "2에서 만든 모델은 단 1개의 층으로 이루어진 단층 모델이었다. 그럼 층을 더 쌓아서 모델이 더 복잡해진다면 성능이 오르지 않을까? 대답은 비선형 함수(activation function)를 추가해준다면 'yes'이다. 여튼 층을 더 여러개를 둔다면 더 정확도가 높은 모델을 만들 수 있다. 이를 다층 퍼셉트론(multi-layer perceptron)이라고도 부른다."
      ],
      "metadata": {
        "id": "0F7GoXcoGwDe"
      }
    },
    {
      "cell_type": "markdown",
      "source": [
        "### 비선형 함수가 필요한 이유\n",
        "\n",
        "수식으로 설명하겠다.\n",
        "\n",
        "간단하게 y가 인공지능이 내는 결과라고 하고 2개의 층을 쌓은 모델이라고 하자.\n",
        "\n",
        "$y=a_{21}z_1+a_{22}z_2$\n",
        "\n",
        "$z_1=a_{11}x_1+a_{11}x_2$\n",
        "\n",
        "$z_2=a_{12}x_1+a_{12}x_2$\n",
        "\n",
        "$y=a_{21}(a_{11}x_1+a_{11}x_2)+a_{22}(a_{12}x_1+a_{12}x_2)=(a_{21}a_{11}+a_{22}a_{12})x_1+(a_{21}a_{11}+a_{22}a_{12})x_2=\\alpha_2x_1+\\alpha_2x_2$\n",
        "\n",
        "위처럼 기껏 2개의 층을 쌓았는데 결국 1개의 층이 된 것과 같은 결과가 된다. 이를 막기 위해서 비선형 함수를 사용해야한다.\n",
        "\n",
        "![제목 없음.png](data:image/png;base64,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)"
      ],
      "metadata": {
        "id": "gDvQhbr-Gv6g"
      }
    },
    {
      "cell_type": "markdown",
      "source": [
        "### dropout\n",
        "\n",
        "드롭아웃(dropout)은 정규화의 효과를 주기 때문에 예전에는 많이 사용했지만, 현재는 대체 가능한 기술이 나와 일부 연구를 제외하고는 사용되지 않는다. 여기서 정규화의 말이 어렵다면 하나의 예시를 들겠다.\n",
        "\n",
        "만약 하나의 가중치가 결과에 매우 큰 영향을 준다면 이는 절대 좋은 현상이 아니다. 이는 해당 가중치에 과하게 의존적이게 되는 효과가 생겨 다른 가중치의 연산 결과는 무시되는 경향이 생기기 때문이다. 즉, 기껏 열심히 층을 여러개 만들어서 많은 가중치를 사용하도록 했는데 가중치 하나만 사용하는 것과 비슷해지기 때문에 전체적으로 모든 가중치가 비슷한 영향력을 낼 수 있도록 해주는 것이다. 이를 보고 정규화의 효과가 있다라고 한다.\n",
        "\n",
        "\n",
        "<img src=\"https://www.oreilly.com/api/v2/epubs/9781788295628/files/assets/d4d20bd7-192c-48e7-9da2-6d3ddc7929e7.png\" width=600>"
      ],
      "metadata": {
        "id": "mIn2lcLyImDG"
      }
    },
    {
      "cell_type": "code",
      "source": [
        "# 다층 Linear 모델\n",
        "def build_multi_layer_model_without_activation():\n",
        "  model = Sequential([\n",
        "    Flatten(input_shape=(28, 28)),\n",
        "    Dense(128),  # 첫 번째 숨겨진 레이어\n",
        "    Dropout(0.5),                   # Dropout 추가\n",
        "    Dense(64),   # 두 번째 숨겨진 레이어\n",
        "    Dropout(0.5),                   # Dropout 추가\n",
        "    Dense(10, activation='softmax') # 출력 레이어\n",
        "  ])\n",
        "  model.compile(optimizer='adam', loss='categorical_crossentropy', metrics=['accuracy'])\n",
        "  return model"
      ],
      "metadata": {
        "id": "jqGK7Pj4Jfk0"
      },
      "execution_count": null,
      "outputs": []
    },
    {
      "cell_type": "code",
      "source": [
        "# 다층 Linear 모델\n",
        "def build_multi_layer_model():\n",
        "  model = Sequential([\n",
        "    Flatten(input_shape=(28, 28)),\n",
        "    Dense(128, activation='relu'),  # 첫 번째 숨겨진 레이어\n",
        "    Dropout(0.5),                   # Dropout 추가\n",
        "    Dense(64, activation='relu'),   # 두 번째 숨겨진 레이어\n",
        "    Dropout(0.5),                   # Dropout 추가\n",
        "    Dense(10, activation='softmax') # 출력 레이어\n",
        "  ])\n",
        "  model.compile(optimizer='adam', loss='categorical_crossentropy', metrics=['accuracy'])\n",
        "  return model"
      ],
      "metadata": {
        "id": "U4ojf0V1vLR8"
      },
      "execution_count": null,
      "outputs": []
    },
    {
      "cell_type": "code",
      "source": [
        "# MNIST 데이터셋 불러오기 및 전처리\n",
        "(train_images, train_labels), (test_images, test_labels) = mnist.load_data()\n",
        "train_images = train_images / 255.0\n",
        "test_images = test_images / 255.0\n",
        "\n",
        "# 레이블을 원-핫 인코딩으로 변환\n",
        "train_labels = to_categorical(train_labels, 10)\n",
        "test_labels = to_categorical(test_labels, 10)\n",
        "\n",
        "# 모델 정의 (위에서 정의한 함수 사용)\n",
        "multi_layer_model = build_multi_layer_model()\n",
        "# multi_layer_model = build_multi_layer_model_without_activation()\n",
        "\n",
        "# 학습 매개변수 설정\n",
        "batch_size = 32\n",
        "epochs = 5\n",
        "\n",
        "# 다층 Linear 모델 학습\n",
        "multi_layer_model.fit(train_images, train_labels, batch_size=batch_size, epochs=epochs, validation_data=(test_images, test_labels))"
      ],
      "metadata": {
        "id": "fNWrdfMI2Mh-"
      },
      "execution_count": null,
      "outputs": []
    },
    {
      "cell_type": "markdown",
      "source": [
        "# 4. 다른 방식으로 모델 만들기"
      ],
      "metadata": {
        "id": "k2DRPWOajLoe"
      }
    },
    {
      "cell_type": "markdown",
      "source": [
        "### 컨볼루션(convolution)\n",
        "\n",
        "기존의 방법은 이미지 전체를 한번에 보고 예측하도록 했다면, 이번에 할 방법은 이미지의 부분부분을 보도록 하는 방법을 배워보고자 한다. 이는 convolution이라고 하며 결론부터 말하면 성능이 비약적으로 향상될 것이다.\n",
        "\n",
        "<img src=\"https://encrypted-tbn0.gstatic.com/images?q=tbn:ANd9GcTAO04Eovo5TQ3pCda4AKNdX_6pEDHBQcs_Qw&usqp=CAU\" width=500>\n",
        "\n",
        "<img src=\"https://cdn-images-1.medium.com/max/1024/1*3BRLw4lsANPEfGgimG3YVQ.png\">\n",
        "\n",
        "아래의 사진을 예시로 들겠다. 데이터는 실제로 사람이 만들기 때문에 어떤 형태든지 만들어질 수 있다. 아래의 사진처럼 말이다. 아래의 사진은 대부분은 여백으로 쓸모없는 부분이고 사실상 가장자리에 쓸모있는 데이터가 몰려있는 형태이다. convolution은 지역적인 특징을 학습하기 때문에 결과에 실질적인 영향을 미치는 부분이 이미지 내에서 이동되더라도 이를 학습을 잘하기 때문에 일반적으로 성능이 좋아진다.\n",
        "\n",
        "![제목 없음.png](data:image/png;base64,iVBORw0KGgoAAAANSUhEUgAAAMgAAADICAIAAAAiOjnJAAAAAXNSR0IArs4c6QAAAARnQU1BAACxjwv8YQUAAAAJcEhZcwAAEnQAABJ0Ad5mH3gAAAR2SURBVHhe7dyhUgNJFIZRJBKJRCKRSCQSiYzMI/AWPA6SR4hEIpFIJNtb3KGyzBCSTH62qjlHILpn3Fc9t0IyR+8QICwihEWEsIgQFhHCIkJYRAiLCGFRXl9fl8vl2dnZ0dFR+3t7e/vy8lJ7uxMW/2pVXVxctKTWXV1d1fbuhMV0VR/qit0J6+9af/ZNalt16e6E9ef82NOH09PTh4eHumd3wvpb2jx+fX1d7Uw5Pj6e09MnYf0V7aC6u7tr3VRBUw5VVSOs/m357Lu8vHx8fKx7ZhNW51pVm599zcxxapKwuvXjQZXo6ZOwurVYLKqg/2qD1P39/dvbW12XIaw+tePq5OSkUlrTTqkDDlIbCKtDraqbm5tKaU302feFsHozOa23Set3DqpPwurN5Gj1y1U1wurNeLSa8y+/vQmrN1XToHX2a3PVOmF1pQ1YFdTgf6mqEVZXxgNWbfw6YXVlPGDVxq8TVleqpi20iX7mt9o3E1ZXqppdhAoTVlcqlt1dXFwcti1hdaUy2cth2xJWV6qRfR2wLWF1pQJZM/mx+2q1+u7bf3N+S7hOWF2pOgabv87w9PTUsqtL1xzk0BJWVyqNQa1+b7KtgxxawupKpTGo1Y1aW+Of7tTeDMLqSnUxqNWftCOqbhjUxgzC6kp1MXh+fq6NjdqhVTcMamMGYXXly0NtsVjUxk/qhkGtziCsrnx5qLXOtjy06oZBrc4grK6MJ/EtD626elCrMwirN+NDqzY2qqsHtTqDsHqz3yRelw5qdQZhdajqGGzzSXpdOqjVGYTVoapjsM0n6XXpoFZnEFaH9vgkva4b1OoMwurQrp+kj3/bUxszCKtD4/l985iV+G2PsPpUgQy+G7PaWbVcLvd4dP5IWH0atzL+xcTk60Oaye8G7kpYfRqPWc3nufVxUE1+y+9QrzoSVp/amDXZzWbtnDvUe2mE1a3W1uRL/b5z2Jf9Catnq9VqPGxNOvhLaYTVuclh64vEKySF1bn2QDw/P6+CRnJvJRUWEcIiQlhECIsIYREhLCKERYSwiBAWEcIiQlhECIsIYREhLCKERYSwiBAWEcIiQlhECIsIYREhLCKERYSwiBAWEcIiQlhECIsIYREhLCKERYSwiBAWEcIiQlhECIsIYREhLCKERYSwiBAWEcIiQlhECIsIYREhLCKERYSwiBAWEcIiQlhECIsIYREhLCKERYSwiBAWEcIiQlhECIsIYREhLCKERYSwiBAWEcIiQlhECIsIYREhLCKERYSwiBAWEcIiQlhECIsIYREhLCKERYSwiBAWEcIiQlhECIsIYREhLCKERYSwiBAWEcIiQlhECIsIYREhLCKERYSwiBAWEcIiQlhECIsIYREhLCKERYSwiBAWEcIiQlhECIsIYREhLCKERYSwiBAWEcIiQlhECIsIYREhLCKERYSwiBAWEcIiQlhECIsIYREhLCKERYSwiBAWEcIiQlhECIsIYREhLCKERYSwiBAWEcIiQlhECIsIYREhLCKERcD7+z/kC3yqgMQPbgAAAABJRU5ErkJggg==)"
      ],
      "metadata": {
        "id": "rxA6i92rTDg8"
      }
    },
    {
      "cell_type": "markdown",
      "source": [
        "### 최대값 풀링(max pooling)\n",
        "\n",
        "일정 범위 내에서 가장 높은 값을 선택함으로써, 가장 두드러진 특징을 강조한다. 이는 신경망이 더 중요한 정보에 집중하게 하여, 성능을 향상시키는 데 도움을 준다.\n",
        "\n",
        "<img src=\"https://production-media.paperswithcode.com/methods/MaxpoolSample2.png\">"
      ],
      "metadata": {
        "id": "zeRABQXsTDc_"
      }
    },
    {
      "cell_type": "markdown",
      "source": [
        "### 배치 정규화 (batch normalization)\n",
        "\n",
        "드롭아웃을 쓰지 않게 된 이유로 배치 정규화를 통해 정규화 효과를 낼 수 있으며 다양한 장점에 의해서 널리 사용된다.\n",
        "\n",
        "배치 정규화는 층 마다 분포가 심하게 달라지는 현상을 줄여줘 훈련을 안정적이게 해주고 최고 성능에 빠르게 수렴하도록 해준다.\n",
        "\n",
        "<img src=\"https://velog.velcdn.com/images/pindum/post/fded9d42-ce26-4984-bc25-b9fd09bcd2ba/image.png\">\n",
        "\n",
        "<img src=\"https://gaussian37.github.io/assets/img/dl/concept/batchnorm/13.png\">"
      ],
      "metadata": {
        "id": "Ylzt5A9JVtzO"
      }
    },
    {
      "cell_type": "code",
      "source": [
        "# CNN 모델\n",
        "def build_cnn_model():\n",
        "  model = Sequential([\n",
        "    Conv2D(32, kernel_size=(3, 3), input_shape=(28, 28, 1)),\n",
        "    BatchNormalization(),  # 배치 정규화 추가\n",
        "    Activation('relu'),\n",
        "    MaxPooling2D(pool_size=(2, 2)),\n",
        "    Conv2D(64, kernel_size=(3, 3)),\n",
        "    BatchNormalization(),  # 배치 정규화 추가\n",
        "    Activation('relu'),\n",
        "    MaxPooling2D(pool_size=(2, 2)),\n",
        "    Flatten(),\n",
        "    Dense(128, activation='relu'),\n",
        "    Dense(10, activation='softmax')\n",
        "  ])\n",
        "  model.compile(optimizer='adam', loss='categorical_crossentropy', metrics=['accuracy'])\n",
        "  return model"
      ],
      "metadata": {
        "id": "ZeG3Ibb2vLPV"
      },
      "execution_count": null,
      "outputs": []
    },
    {
      "cell_type": "code",
      "execution_count": 2,
      "metadata": {
        "id": "I19V8sgWh6wo",
        "colab": {
          "base_uri": "https://localhost:8080/",
          "height": 211
        },
        "outputId": "5a72c9d7-8155-4d2f-b522-5a0723edaee6"
      },
      "outputs": [
        {
          "output_type": "error",
          "ename": "NameError",
          "evalue": "name 'mnist' is not defined",
          "traceback": [
            "\u001b[0;31m---------------------------------------------------------------------------\u001b[0m",
            "\u001b[0;31mNameError\u001b[0m                                 Traceback (most recent call last)",
            "\u001b[0;32m<ipython-input-2-c34226046377>\u001b[0m in \u001b[0;36m<cell line: 2>\u001b[0;34m()\u001b[0m\n\u001b[1;32m      1\u001b[0m \u001b[0;31m# MNIST 데이터셋 불러오기 및 전처리\u001b[0m\u001b[0;34m\u001b[0m\u001b[0;34m\u001b[0m\u001b[0m\n\u001b[0;32m----> 2\u001b[0;31m \u001b[0;34m(\u001b[0m\u001b[0mtrain_images\u001b[0m\u001b[0;34m,\u001b[0m \u001b[0mtrain_labels\u001b[0m\u001b[0;34m)\u001b[0m\u001b[0;34m,\u001b[0m \u001b[0;34m(\u001b[0m\u001b[0mtest_images\u001b[0m\u001b[0;34m,\u001b[0m \u001b[0mtest_labels\u001b[0m\u001b[0;34m)\u001b[0m \u001b[0;34m=\u001b[0m \u001b[0mmnist\u001b[0m\u001b[0;34m.\u001b[0m\u001b[0mload_data\u001b[0m\u001b[0;34m(\u001b[0m\u001b[0;34m)\u001b[0m\u001b[0;34m\u001b[0m\u001b[0;34m\u001b[0m\u001b[0m\n\u001b[0m\u001b[1;32m      3\u001b[0m \u001b[0mtrain_images\u001b[0m \u001b[0;34m=\u001b[0m \u001b[0mtrain_images\u001b[0m \u001b[0;34m/\u001b[0m \u001b[0;36m255.0\u001b[0m\u001b[0;34m\u001b[0m\u001b[0;34m\u001b[0m\u001b[0m\n\u001b[1;32m      4\u001b[0m \u001b[0mtest_images\u001b[0m \u001b[0;34m=\u001b[0m \u001b[0mtest_images\u001b[0m \u001b[0;34m/\u001b[0m \u001b[0;36m255.0\u001b[0m\u001b[0;34m\u001b[0m\u001b[0;34m\u001b[0m\u001b[0m\n\u001b[1;32m      5\u001b[0m \u001b[0;34m\u001b[0m\u001b[0m\n",
            "\u001b[0;31mNameError\u001b[0m: name 'mnist' is not defined"
          ]
        }
      ],
      "source": [
        "# MNIST 데이터셋 불러오기 및 전처리\n",
        "(train_images, train_labels), (test_images, test_labels) = mnist.load_data()\n",
        "train_images = train_images / 255.0\n",
        "test_images = test_images / 255.0\n",
        "\n",
        "# 레이블을 원-핫 인코딩으로 변환\n",
        "train_labels = to_categorical(train_labels, 10)\n",
        "test_labels = to_categorical(test_labels, 10)\n",
        "\n",
        "# 모델 정의 (위에서 정의한 함수 사용)\n",
        "cnn_model = build_cnn_model()\n",
        "\n",
        "# 학습 매개변수 설정\n",
        "batch_size = 32\n",
        "epochs = 5\n",
        "\n",
        "# CNN 모델 학습\n",
        "# CNN을 위해 이미지 차원 재조정 (28x28 -> 28x28x1)\n",
        "train_images_cnn = train_images.reshape((train_images.shape[0], 28, 28, 1))\n",
        "test_images_cnn = test_images.reshape((test_images.shape[0], 28, 28, 1))\n",
        "\n",
        "cnn_model.fit(train_images_cnn, train_labels, batch_size=batch_size, epochs=epochs, validation_data=(test_images_cnn, test_labels))"
      ]
    },
    {
      "cell_type": "markdown",
      "source": [
        "# 5. 성능 더 끌어올리기"
      ],
      "metadata": {
        "id": "HT4XgntdjLmU"
      }
    },
    {
      "cell_type": "markdown",
      "source": [
        "### 데이터 증강\n",
        "\n",
        "기본적으로 데이터는 좋은 퀄리티라면 많으면 많을수록 무조건 좋다. 지금 가진 데이터는 6만장인데 이를 인위적으로 더 늘릴 수 있다. 이미지를 조금 회전을 한다던가 상하좌우 방향 임의로 조금 이동시키는 등을 이용할 수 있다. 이런 것을 보고 데이터 증강(data augmentation)이라고 한다. 하지만 주의해야할 점이 있다. 너무 심한 증강, 예를 들어서 180도 회전이라던지 이미지를 10%정도만 보일 정도로 이동시키는 등의 증강은 너무 원본 데이터의 훼손이 심해 오히려 학습에 악영향이 될 수 있다. (6을 180도 돌리면 9가 되는데 학습시에 누가 봐도 9인 데이터를 6이라고 학습하면 이상한 것처럼)\n",
        "\n",
        "<img src=\"https://analyticsindiamag.com/wp-content/uploads/2020/08/UKwFg.jpg\">"
      ],
      "metadata": {
        "id": "tDpZI8UaTSgx"
      }
    },
    {
      "cell_type": "code",
      "source": [
        "# 데이터 증강 설정\n",
        "datagen = ImageDataGenerator(\n",
        "    rotation_range=10,  # 이미지를 무작위로 회전시킬 각도 범위\n",
        "    width_shift_range=0.1,  # 수평으로 이동시킬 범위 (전체 너비의 비율)\n",
        "    height_shift_range=0.1,  # 수직으로 이동시킬 범위 (전체 높이의 비율)\n",
        ")\n",
        "\n",
        "# MNIST 데이터셋 불러오기 및 전처리\n",
        "(train_images, train_labels), (test_images, test_labels) = mnist.load_data()\n",
        "train_images = train_images / 255.0\n",
        "test_images = test_images / 255.0\n",
        "\n",
        "# 레이블을 원-핫 인코딩으로 변환\n",
        "train_labels = to_categorical(train_labels)\n",
        "test_labels = to_categorical(test_labels)\n",
        "\n",
        "# 모델 정의 (위에서 정의한 함수 사용)\n",
        "cnn_model = build_cnn_model()\n",
        "\n",
        "# 학습 매개변수 설정\n",
        "batch_size = 32\n",
        "epochs = 5\n",
        "\n",
        "# CNN 모델 학습\n",
        "# CNN을 위해 이미지 차원 재조정 (28x28 -> 28x28x1)\n",
        "train_images_cnn = train_images.reshape((train_images.shape[0], 28, 28, 1))\n",
        "test_images_cnn = test_images.reshape((test_images.shape[0], 28, 28, 1))\n",
        "\n",
        "# 데이터 증강을 적용하여 학습\n",
        "cnn_model.fit(datagen.flow(train_images_cnn, train_labels, batch_size=batch_size),\n",
        "                           epochs=epochs, validation_data=(test_images_cnn, test_labels))"
      ],
      "metadata": {
        "id": "d-fcw3cQ3WhR"
      },
      "execution_count": null,
      "outputs": []
    },
    {
      "cell_type": "markdown",
      "source": [
        "# 6. 직접 해보기\n",
        "\n",
        "여러분이 직접 학습 코드와 모델을 고쳐서 제가 짠 예시 코드보다 정확도를 더 높여보세요."
      ],
      "metadata": {
        "id": "mBS1zG8pjLkC"
      }
    },
    {
      "cell_type": "code",
      "source": [
        "def calculate_nucleotide_percentage(dna_sequence):\n",
        "    \"\"\"\n",
        "    DNA 서열에서 각 염기의 비율을 계산합니다.\n",
        "    \"\"\"\n",
        "    total_length = len(dna_sequence)\n",
        "    percentages = {}\n",
        "\n",
        "    for nucleotide in 'ACGT':\n",
        "        count = dna_sequence.count(nucleotide)\n",
        "        percentages[nucleotide] = (count / total_length) * 100\n",
        "\n",
        "    return percentages\n",
        "\n",
        "# 사용자 입력\n",
        "dna_sequence = input(\"DNA 서열을 입력하세요: \").upper()\n",
        "\n",
        "# 염기 비율 계산\n",
        "percentages = calculate_nucleotide_percentage(dna_sequence)\n",
        "\n",
        "# 결과 출력\n",
        "print(\"각 염기의 비율:\")\n",
        "for nucleotide, percentage in percentages.items():\n",
        "    print(f\"{nucleotide}: {percentage:.2f}%\")\n"
      ],
      "metadata": {
        "id": "lMNN9bCQKGZh",
        "colab": {
          "base_uri": "https://localhost:8080/"
        },
        "outputId": "857368e9-80ee-4e1d-9947-bc132ec013f8"
      },
      "execution_count": 4,
      "outputs": [
        {
          "output_type": "stream",
          "name": "stdout",
          "text": [
            "DNA 서열을 입력하세요: AAGTTCGCTA\n",
            "각 염기의 비율:\n",
            "A: 30.00%\n",
            "C: 20.00%\n",
            "G: 20.00%\n",
            "T: 30.00%\n"
          ]
        }
      ]
    },
    {
      "cell_type": "code",
      "source": [],
      "metadata": {
        "id": "RCZ0yodUKFm6"
      },
      "execution_count": null,
      "outputs": []
    }
  ]
}